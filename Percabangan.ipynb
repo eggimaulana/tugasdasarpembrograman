{
 "cells": [
  {
   "cell_type": "code",
   "execution_count": 3,
   "id": "3b0786b6",
   "metadata": {},
   "outputs": [
    {
     "name": "stdout",
     "output_type": "stream",
     "text": [
      "Isikan Bilangan:7\n",
      "7 adalah bilangan ganjil\n"
     ]
    }
   ],
   "source": [
    "nilai = int(input('Isikan Bilangan:'))\n",
    "sisa_bagi= nilai % 2\n",
    "                  \n",
    "if sisa_bagi ==0:\n",
    "     print(nilai, \"adalah bilangan genap\")\n",
    "else:\n",
    " print(f\"{nilai} adalah bilangan ganjil\")"
   ]
  },
  {
   "cell_type": "code",
   "execution_count": 11,
   "id": "c4b0966b",
   "metadata": {},
   "outputs": [
    {
     "name": "stdout",
     "output_type": "stream",
     "text": [
      "Isikan Nilai Pemrograman Mahasiswa:90\n",
      "Nilai Huruf Mahasiswa: A\n"
     ]
    }
   ],
   "source": [
    "#0 - 49 => E\n",
    "#50 - 59=> D\n",
    "#60 - 69 > C\n",
    "#70 - 84 => B\n",
    "#85 - 100 => A\n",
    "\n",
    "nilai_mhs = int(input('Isikan Nilai Pemrograman Mahasiswa:'))\n",
    "\n",
    "if nilai_mhs >=0 and nilai_mhs <50:\n",
    "    keterangan = \"E\"\n",
    "elif nilai_mhs >= 50 and nilai_mhs <60: \n",
    "    keterangan =\"D\"\n",
    "elif nilai_mhs >=60 and nilai_mhs <70: \n",
    "    keterangan =\"C\"\n",
    "elif nilai_mhs >=70 and nilai_mhs <85: \n",
    "    keterangan = \"B\"\n",
    "elif nilai_mhs >=85 and nilai_mhs <101: \n",
    "    keterangan = \"A\"\n",
    "\n",
    "print(\"Nilai Huruf Mahasiswa:\", keterangan)"
   ]
  },
  {
   "cell_type": "code",
   "execution_count": null,
   "id": "1e5a33bc",
   "metadata": {},
   "outputs": [],
   "source": []
  }
 ],
 "metadata": {
  "kernelspec": {
   "display_name": "Python 3 (ipykernel)",
   "language": "python",
   "name": "python3"
  },
  "language_info": {
   "codemirror_mode": {
    "name": "ipython",
    "version": 3
   },
   "file_extension": ".py",
   "mimetype": "text/x-python",
   "name": "python",
   "nbconvert_exporter": "python",
   "pygments_lexer": "ipython3",
   "version": "3.9.12"
  }
 },
 "nbformat": 4,
 "nbformat_minor": 5
}
