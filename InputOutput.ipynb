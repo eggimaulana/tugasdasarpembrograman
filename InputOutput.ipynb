{
 "cells": [
  {
   "cell_type": "code",
   "execution_count": 1,
   "id": "e474e939",
   "metadata": {},
   "outputs": [
    {
     "name": "stdout",
     "output_type": "stream",
     "text": [
      "Isikan Nama Awaleggi\n",
      "Isikan Nama Tengahmaulana\n",
      "Isikan Nama Akhirrizki\n",
      "Selamat Datang eggi maulana rizki S.kom\n"
     ]
    }
   ],
   "source": [
    "fname =  input('Isikan Nama Awal')\n",
    "mname =  input('Isikan Nama Tengah')\n",
    "Iname =  input('Isikan Nama Akhir')\n",
    "\n",
    "print('Selamat Datang',fname,mname,Iname,\"S.kom\")"
   ]
  },
  {
   "cell_type": "code",
   "execution_count": 2,
   "id": "fa9d6c5f",
   "metadata": {},
   "outputs": [
    {
     "name": "stdout",
     "output_type": "stream",
     "text": [
      "Isikan Nama Bilangan 1:10\n",
      "Isikan Nama Bilangan 2:23\n",
      "<class 'str'>\n",
      "Hasil Penjumlahan 33\n"
     ]
    }
   ],
   "source": [
    "bil1 =  input('Isikan Nama Bilangan 1:')\n",
    "bil2 =  input('Isikan Nama Bilangan 2:')\n",
    "print(type(bil1))\n",
    "hasil = int(bil1) + int(bil2)\n",
    "print('Hasil Penjumlahan', hasil)"
   ]
  },
  {
   "cell_type": "code",
   "execution_count": 3,
   "id": "c29bdba6",
   "metadata": {},
   "outputs": [
    {
     "name": "stdout",
     "output_type": "stream",
     "text": [
      "Isikan Panjang Persegi:2\n",
      "Isikan Lebar Persegi:3\n",
      "Luas Persegi Panjang 6\n",
      "keliling Persegi Panjang 10\n"
     ]
    }
   ],
   "source": [
    "#luas =>  p * l\n",
    "#keliling => 2 * (p+l)\n",
    "\n",
    "p =  input('Isikan Panjang Persegi:')\n",
    "l =  input('Isikan Lebar Persegi:')\n",
    "\n",
    "luas = int(p) * int(l)\n",
    "keliling = 2*(int(p)  + int(l))\n",
    "\n",
    "print('Luas Persegi Panjang',luas)\n",
    "print('keliling Persegi Panjang',keliling)"
   ]
  },
  {
   "cell_type": "code",
   "execution_count": 4,
   "id": "2ab344af",
   "metadata": {},
   "outputs": [
    {
     "name": "stdout",
     "output_type": "stream",
     "text": [
      "senin@selasa@rabu@kamis@jum'at@sabtu@minggu^_^one\n",
      "two\n",
      "three\n",
      "four\n"
     ]
    }
   ],
   "source": [
    "print(\"senin\",\"selasa\",\"rabu\",\"kamis\",\"jum'at\",\"sabtu\",\"minggu\",sep=\"@\",end=\"^_^\")\n",
    "print(\"one\",\"two\",\"three\",\"four\",sep=\"\\n\")"
   ]
  },
  {
   "cell_type": "code",
   "execution_count": 5,
   "id": "2d8e6a54",
   "metadata": {},
   "outputs": [
    {
     "name": "stdout",
     "output_type": "stream",
     "text": [
      "Perkalian 7 dengan 10 adalah 70\n"
     ]
    }
   ],
   "source": [
    "number1 = 7\n",
    "number2 = 10\n",
    "\n",
    "# Hasil perkalian 7 dengan 10 adalah 70\n",
    "print(\"Perkalian {} dengan {} adalah {}\".format(number1,number2,number1 * number2))"
   ]
  },
  {
   "cell_type": "code",
   "execution_count": 6,
   "id": "b905cec2",
   "metadata": {},
   "outputs": [
    {
     "name": "stdout",
     "output_type": "stream",
     "text": [
      "Urutan Huruf CBA\n"
     ]
    }
   ],
   "source": [
    "first_letter = \"A\"\n",
    "middle_letter = \"B\"\n",
    "last_letter = \"C\"\n",
    "\n",
    "print(\"Urutan Huruf {2}{1}{0}\".format(first_letter,middle_letter,last_letter))"
   ]
  },
  {
   "cell_type": "code",
   "execution_count": 7,
   "id": "03fe11b0",
   "metadata": {},
   "outputs": [
    {
     "name": "stdout",
     "output_type": "stream",
     "text": [
      "Sekarang tanggal 20 Bulan Maret Tahun 2024\n"
     ]
    }
   ],
   "source": [
    "#Sekarang tunggal 20 Bulan Maret Tahan 2024\n",
    "\n",
    "print(\"Sekarang tanggal {tanggal} Bulan {bulan} Tahun {tahun}\". \n",
    "      format(tanggal=20, bulan=\"Maret\", tahun=2024))"
   ]
  },
  {
   "cell_type": "code",
   "execution_count": 8,
   "id": "c25dd7c6",
   "metadata": {},
   "outputs": [
    {
     "name": "stdout",
     "output_type": "stream",
     "text": [
      "Huruf pertama adalah: U\n",
      "Hurus Terakhir adalah: a\n",
      "Huruf Range 0-10: Universitas\n",
      "Putra\n",
      "Nusa Putra\n",
      "artuP asuN satisrevinU\n"
     ]
    }
   ],
   "source": [
    "kampus = \"Universitas Nusa Putra\"\n",
    "print(\"Huruf pertama adalah:\", kampus[0])\n",
    "print(\"Hurus Terakhir adalah:\", kampus [-1]) \n",
    "print(\"Huruf Range 0-10:\", kampus [0:11])\n",
    "print(kampus [-5:])\n",
    "print(kampus [12:])\n",
    "#Reverse String\n",
    "print(kampus [::-1])"
   ]
  },
  {
   "cell_type": "code",
   "execution_count": 9,
   "id": "b7742b92",
   "metadata": {},
   "outputs": [
    {
     "name": "stdout",
     "output_type": "stream",
     "text": [
      "['Jakarta', 'Sukabumi', 'Malang', 'Bandung', 'Surabaya']\n",
      "Jakarta\n",
      "Jakarta@Sukabumi@Malang@Bandung@Surabaya\n"
     ]
    }
   ],
   "source": [
    "#Split => String -> List\n",
    "kota = \"Jakarta Sukabumi Malang Bandung Surabaya\"\n",
    "list_kota = kota.split()\n",
    "print(list_kota)\n",
    "print(list_kota[0])\n",
    "#Join => List -> String\n",
    "join_kota = \"@\".join(list_kota)\n",
    "print(join_kota)"
   ]
  },
  {
   "cell_type": "code",
   "execution_count": 1,
   "id": "c5d7d4de",
   "metadata": {},
   "outputs": [
    {
     "name": "stdout",
     "output_type": "stream",
     "text": [
      "Isikan Nama Anda:eggi maulana \n",
      "Isikan Tanggal Lahir:10/febuari/2000\n",
      "Nama Awal: eggi\n",
      "Nama Akhir: maulana\n",
      "tanggal lahir: 10\n",
      "bulan lahir : febuari\n",
      "tahun lahir : 2000\n",
      "Nama inisial: em\n"
     ]
    }
   ],
   "source": [
    "nama =  input(\"Isikan Nama Anda:\")\n",
    "tgl =  input(\"Isikan Tanggal Lahir:\")\n",
    "\n",
    "list_nama = nama.split()\n",
    "print(\"Nama Awal:\", list_nama[0])\n",
    "print(\"Nama Akhir:\", list_nama [1]) \n",
    "\n",
    "list_tgl = tgl.split('/')\n",
    "print(\"tanggal lahir:\", list_tgl[0])\n",
    "print(\"bulan lahir :\", list_tgl [1]) \n",
    "print(\"tahun lahir :\", list_tgl [2]) \n",
    "\n",
    "inisial = list_nama[0][0]+list_nama[1][0]\n",
    "print(\"Nama inisial:\", inisial)"
   ]
  }
 ],
 "metadata": {
  "kernelspec": {
   "display_name": "Python 3 (ipykernel)",
   "language": "python",
   "name": "python3"
  },
  "language_info": {
   "codemirror_mode": {
    "name": "ipython",
    "version": 3
   },
   "file_extension": ".py",
   "mimetype": "text/x-python",
   "name": "python",
   "nbconvert_exporter": "python",
   "pygments_lexer": "ipython3",
   "version": "3.9.12"
  }
 },
 "nbformat": 4,
 "nbformat_minor": 5
}
